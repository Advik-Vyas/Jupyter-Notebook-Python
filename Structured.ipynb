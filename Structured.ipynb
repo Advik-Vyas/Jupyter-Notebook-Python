{
 "cells": [
  {
   "cell_type": "code",
   "execution_count": 3,
   "id": "29db89dd",
   "metadata": {},
   "outputs": [
    {
     "name": "stdout",
     "output_type": "stream",
     "text": [
      "Enter a string: programming\n",
      "Count of all characters in given list is :  {'p': 1, 'r': 2, 'o': 1, 'g': 2, 'a': 1, 'm': 2, 'i': 1, 'n': 1}\n"
     ]
    }
   ],
   "source": [
    "str = input(\"Enter a string: \")\n",
    "charlist = {}\n",
    "for i in str:\n",
    "    if i in charlist:\n",
    "        charlist[i] += 1\n",
    "    else:\n",
    "        charlist[i] = 1\n",
    "print(\"Count of all characters in given list is : \",charlist)"
   ]
  },
  {
   "cell_type": "code",
   "execution_count": null,
   "id": "15ccbdf8",
   "metadata": {},
   "outputs": [],
   "source": [
    "n=int(input(\"Enter a Positive Number: \"))\n",
    "n_str = str(n)\n",
    "while (n > 0):\n",
    "    n -= sum([int(i) for i in list(n_str)])\n",
    "    n_str = list(str(n))\n",
    "    print(n)"
   ]
  },
  {
   "cell_type": "code",
   "execution_count": null,
   "id": "a4f71d6f",
   "metadata": {},
   "outputs": [],
   "source": [
    "mobnum = input(\"Enter a mobile number: \")\n",
    "print(\"Digits not present in the number are : \")\n",
    "for i in range(0,10):\n",
    "    if str(i) not in mobnum:\n",
    "        print(i)"
   ]
  },
  {
   "cell_type": "code",
   "execution_count": 2,
   "id": "58f7881f",
   "metadata": {},
   "outputs": [
    {
     "name": "stdout",
     "output_type": "stream",
     "text": [
      "Enter a number: 8765\n",
      "48884\n"
     ]
    }
   ],
   "source": [
    "def rev(n):\n",
    "    while True:\n",
    "        k = \"{}\".format(n)\n",
    "        if k == k[::-1]:\n",
    "            break\n",
    "        else:\n",
    "            m = int(k[::-1])\n",
    "            n += m\n",
    "    return n\n",
    "\n",
    "num = int(input(\"Enter a number: \"))\n",
    "print(rev(num))"
   ]
  },
  {
   "cell_type": "code",
   "execution_count": 5,
   "id": "395810a9",
   "metadata": {},
   "outputs": [
    {
     "name": "stdout",
     "output_type": "stream",
     "text": [
      "1 2 3 4 5\n",
      "Length of list is :  5\n",
      "Sliced list is :  [4, 5]\n",
      "Third last term is :  3\n",
      "Sum of series is :  15\n"
     ]
    }
   ],
   "source": [
    "l = list(map(int,input().split(\" \")))\n",
    "length = len(l)\n",
    "print(\"Length of list is : \",length)\n",
    "sliced = l[3::1]\n",
    "print(\"Sliced list is : \",sliced)\n",
    "print(\"Third last term is : \",l[length-3])\n",
    "print(\"Sum of series is : \",sum(l))"
   ]
  },
  {
   "cell_type": "code",
   "execution_count": 10,
   "id": "f4adcd33",
   "metadata": {},
   "outputs": [
    {
     "name": "stdout",
     "output_type": "stream",
     "text": [
      "Enter triangle sides : 4 5 6\n",
      "False\n"
     ]
    }
   ],
   "source": [
    "A = list(map(int,input(\"Enter triangle sides : \").split()))\n",
    "if (A[0]**2 + A[1]**2) == A[2]**2:\n",
    "    print(\"These numbers form a Pythagorean Triplet\")\n",
    "else:\n",
    "    print(\"These numbers do not form a Pythagorean Triplet\")"
   ]
  },
  {
   "cell_type": "code",
   "execution_count": 13,
   "id": "672ea438",
   "metadata": {},
   "outputs": [
    {
     "name": "stdout",
     "output_type": "stream",
     "text": [
      "2\n",
      "2 4 8\n",
      "4 16 64\n",
      "6 36 216\n",
      "8 64 512\n",
      "10 100 1000\n",
      "12 144 1728\n",
      "14 196 2744\n",
      "16 256 4096\n",
      "18 324 5832\n",
      "20 400 8000\n"
     ]
    }
   ],
   "source": [
    "n = int(input())\n",
    "for i in range(1,11):\n",
    "    print(f'{n*i} {(n*i)**2} {(n*i)**3}')"
   ]
  },
  {
   "cell_type": "code",
   "execution_count": 19,
   "id": "2a54001f",
   "metadata": {},
   "outputs": [
    {
     "name": "stdout",
     "output_type": "stream",
     "text": [
      "Enter a string : srmist\n",
      "Number of vowels :  1\n",
      "There are 16.666666666666664% of vowels in the string\n"
     ]
    }
   ],
   "source": [
    "A = str(input(\"Enter a string : \"))\n",
    "V = ('a','e','i','o','u','A','E','I','O','U')\n",
    "Vc = 0\n",
    "length = len(A)\n",
    "for char in A:\n",
    "    if char in V:\n",
    "        Vc = Vc+1\n",
    "P = (Vc/length)*100\n",
    "print(\"Number of vowels : \",Vc)\n",
    "print(f'There are {P}% of vowels in the string')"
   ]
  },
  {
   "cell_type": "code",
   "execution_count": null,
   "id": "b64ae945",
   "metadata": {},
   "outputs": [],
   "source": []
  }
 ],
 "metadata": {
  "kernelspec": {
   "display_name": "Python 3 (ipykernel)",
   "language": "python",
   "name": "python3"
  },
  "language_info": {
   "codemirror_mode": {
    "name": "ipython",
    "version": 3
   },
   "file_extension": ".py",
   "mimetype": "text/x-python",
   "name": "python",
   "nbconvert_exporter": "python",
   "pygments_lexer": "ipython3",
   "version": "3.10.2"
  }
 },
 "nbformat": 4,
 "nbformat_minor": 5
}
