{
 "cells": [
  {
   "cell_type": "code",
   "execution_count": 3,
   "id": "355ef6b3",
   "metadata": {},
   "outputs": [
    {
     "ename": "NameError",
     "evalue": "name 'now' is not defined",
     "output_type": "error",
     "traceback": [
      "\u001b[0;31m---------------------------------------------------------------------------\u001b[0m",
      "\u001b[0;31mNameError\u001b[0m                                 Traceback (most recent call last)",
      "\u001b[0;32m/var/folders/qj/lr1zwfxs5fjg4f3gxvr6ttdw0000gn/T/ipykernel_75764/4116103529.py\u001b[0m in \u001b[0;36m<module>\u001b[0;34m\u001b[0m\n\u001b[1;32m      7\u001b[0m \"\"\") \n\u001b[1;32m      8\u001b[0m \u001b[0mconn\u001b[0m\u001b[0;34m.\u001b[0m\u001b[0mcommit\u001b[0m\u001b[0;34m(\u001b[0m\u001b[0;34m)\u001b[0m\u001b[0;34m\u001b[0m\u001b[0;34m\u001b[0m\u001b[0m\n\u001b[0;32m----> 9\u001b[0;31m many_recipes = [(1, 'Paneer', 'Indian', 1, 'BL000001', now.strftime('%Y-%m-%d %H:%M:%S')),\n\u001b[0m\u001b[1;32m     10\u001b[0m \u001b[0;34m(\u001b[0m\u001b[0;36m2\u001b[0m\u001b[0;34m,\u001b[0m \u001b[0;34m'Chowmein'\u001b[0m\u001b[0;34m,\u001b[0m \u001b[0;34m'Chinese'\u001b[0m\u001b[0;34m,\u001b[0m \u001b[0;36m2\u001b[0m\u001b[0;34m,\u001b[0m \u001b[0;34m'BL000002'\u001b[0m\u001b[0;34m,\u001b[0m\u001b[0mnow\u001b[0m\u001b[0;34m.\u001b[0m\u001b[0mstrftime\u001b[0m\u001b[0;34m(\u001b[0m\u001b[0;34m'%Y-%m-%d %H:%M:%S'\u001b[0m\u001b[0;34m)\u001b[0m\u001b[0;34m)\u001b[0m\u001b[0;34m,\u001b[0m\u001b[0;34m\u001b[0m\u001b[0;34m\u001b[0m\u001b[0m\n\u001b[1;32m     11\u001b[0m \u001b[0;34m(\u001b[0m\u001b[0;36m3\u001b[0m\u001b[0;34m,\u001b[0m \u001b[0;34m'Pasta'\u001b[0m\u001b[0;34m,\u001b[0m \u001b[0;34m'Italian'\u001b[0m\u001b[0;34m,\u001b[0m \u001b[0;36m3\u001b[0m\u001b[0;34m,\u001b[0m \u001b[0;34m'BL000003'\u001b[0m\u001b[0;34m,\u001b[0m\u001b[0mnow\u001b[0m\u001b[0;34m.\u001b[0m\u001b[0mstrftime\u001b[0m\u001b[0;34m(\u001b[0m\u001b[0;34m'%Y-%m-%d %H:%M:%S'\u001b[0m\u001b[0;34m)\u001b[0m\u001b[0;34m)\u001b[0m\u001b[0;34m,\u001b[0m\u001b[0;34m\u001b[0m\u001b[0;34m\u001b[0m\u001b[0m\n",
      "\u001b[0;31mNameError\u001b[0m: name 'now' is not defined"
     ]
    }
   ],
   "source": [
    "import sqlite3 as sql \n",
    "from datetime import date \n",
    "conn = sql.connect('customer.db') \n",
    "c = conn.cursor()\n",
    "c.execute(\"\"\"CREATE TABLE recipe13( id int(11), name varchar(400), description text, category_id int(11), \n",
    " chef_id varchar(255), created datetime\n",
    ")\n",
    "\"\"\") \n",
    "conn.commit() \n",
    "many_recipes = [(1, 'Paneer', 'Indian', 1, 'BL000001', now.strftime('%Y-%m-%d %H:%M:%S')),\n",
    "(2, 'Chowmein', 'Chinese', 2, 'BL000002',now.strftime('%Y-%m-%d %H:%M:%S')),\n",
    "(3, 'Pasta', 'Italian', 3, 'BL000003',now.strftime('%Y-%m-%d %H:%M:%S')),\n",
    "(4, 'Momos', 'Tibetan', 4, 'BL000004',now.strftime('%Y-%m-%d %H:%M:%S')),\n",
    "(5, 'Khichdi', 'Indian', 5,'BL000005',now.strftime('%Y-%m-%d %H:%M:%S'))\n",
    "]\n",
    "c.executemany(\"INSERT INTO recipe13 VALUES (?,?,?,?,?,?)\", many_recipes)\n",
    "conn.commit()"
   ]
  },
  {
   "cell_type": "code",
   "execution_count": 15,
   "id": "d7eb592b",
   "metadata": {},
   "outputs": [
    {
     "name": "stdout",
     "output_type": "stream",
     "text": [
      "[(2, 'Chowmein', 'Chinese', 2, 'BL000002', '2022-04-26 21:29:31')]\n"
     ]
    }
   ],
   "source": [
    "c.execute(\"SELECT * FROM recipe1 WHERE description ='Chinese'\")\n",
    "print(c.fetchall())"
   ]
  },
  {
   "cell_type": "code",
   "execution_count": 16,
   "id": "c0fcfde6",
   "metadata": {},
   "outputs": [
    {
     "name": "stdout",
     "output_type": "stream",
     "text": [
      "[(2, 'Chowmein')]\n"
     ]
    }
   ],
   "source": [
    "c.execute(\"SELECT id, name FROM recipe1 WHERE chef_id ='BL000002'\")\n",
    "print(c.fetchall())"
   ]
  },
  {
   "cell_type": "code",
   "execution_count": 18,
   "id": "aabb1ab8",
   "metadata": {},
   "outputs": [
    {
     "name": "stdout",
     "output_type": "stream",
     "text": [
      "[('Indian',), ('Italian',)]\n"
     ]
    }
   ],
   "source": [
    "c.execute(\"SELECT description FROM recipe1 WHERE name LIKE 'P%'\")\n",
    "print(c.fetchall())\n",
    "conn.close()"
   ]
  },
  {
   "cell_type": "code",
   "execution_count": 19,
   "id": "6f0a082c",
   "metadata": {},
   "outputs": [],
   "source": [
    "conn.close()"
   ]
  },
  {
   "cell_type": "code",
   "execution_count": null,
   "id": "01bbd0fd",
   "metadata": {},
   "outputs": [],
   "source": [
    "                                              Question-2"
   ]
  },
  {
   "cell_type": "code",
   "execution_count": 21,
   "id": "5af81152",
   "metadata": {},
   "outputs": [],
   "source": [
    "import sqlite3 as sql\n",
    "conn = sql.connect('customer.db')\n",
    "c = conn.cursor()\n",
    "c.execute(\"\"\"CREATE TABLE movies( movie_id int, movie_name text,genre text, language text, rating int\n",
    ")\n",
    "\"\"\")\n",
    "conn.commit()\n",
    "many_movies = [(101, 'The Matrix', 'Action', 'English', 9),\n",
    "(102, 'The Fault in Our Stars', 'Melodrama','English', 8),\n",
    "(103, 'KGF', 'Action', 'Hindi', 9),\n",
    "(104, '83', 'Historical', 'Hindi',7),\n",
    "(105, 'Tadap', 'Fictional', 'Hindi',5)\n",
    "]\n",
    "c.executemany(\"INSERT INTO movies VALUES (?,?,?,?,?)\", many_movies)\n",
    "conn.commit()"
   ]
  },
  {
   "cell_type": "code",
   "execution_count": 22,
   "id": "adb3b5bb",
   "metadata": {},
   "outputs": [
    {
     "name": "stdout",
     "output_type": "stream",
     "text": [
      "Original Table\n",
      "(101, 'The Matrix', 'Action', 'English', 9)\n",
      "(102, 'The Fault in Our Stars', 'Melodrama', 'English', 8)\n",
      "(103, 'KGF', 'Action', 'Hindi', 9)\n",
      "(104, '83', 'Historical', 'Hindi', 7)\n",
      "(105, 'Tadap', 'Fictional', 'Hindi', 5)\n",
      "After query 1\n",
      "(101, 'The Matrix', 'Action', 'English', 9.9)\n",
      "(102, 'The Fault in Our Stars', 'Melodrama', 'English', 8.8)\n",
      "(103, 'KGF', 'Action', 'Hindi', 9.9)\n",
      "(104, '83', 'Historical', 'Hindi', 7.7)\n",
      "(105, 'Tadap', 'Fictional', 'Hindi', 5.5)\n"
     ]
    }
   ],
   "source": [
    "c.execute(\"SELECT * FROM movies\")\n",
    "items = c.fetchall()\n",
    "print(\"Original Table\")\n",
    "for item in items:\n",
    "    print(item)\n",
    "c.execute(\"UPDATE movies SET rating = rating+rating*0.1 WHERE movie_id = movie_id\")\n",
    "conn.commit()\n",
    "print(\"After query 1\")\n",
    "c.execute(\"SELECT * FROM movies\")\n",
    "items = c.fetchall()\n",
    "for item in items:\n",
    "    print(item)"
   ]
  },
  {
   "cell_type": "code",
   "execution_count": 23,
   "id": "7811aaf0",
   "metadata": {
    "scrolled": true
   },
   "outputs": [
    {
     "name": "stdout",
     "output_type": "stream",
     "text": [
      "After query 2\n",
      "(101, 'The Matrix', 'Action', 'English', 9.9)\n",
      "(103, 'KGF', 'Action', 'Hindi', 9.9)\n",
      "(104, '83', 'Historical', 'Hindi', 7.7)\n",
      "(105, 'Tadap', 'Fictional', 'Hindi', 5.5)\n"
     ]
    }
   ],
   "source": [
    "c.execute(\"DELETE FROM movies WHERE movie_id = 102\")\n",
    "conn.commit()\n",
    "print(\"After query 2\")\n",
    "c.execute(\"SELECT * FROM movies\")\n",
    "items = c.fetchall()\n",
    "for item in items:\n",
    "    print(item)"
   ]
  },
  {
   "cell_type": "code",
   "execution_count": 24,
   "id": "d51e221e",
   "metadata": {},
   "outputs": [
    {
     "name": "stdout",
     "output_type": "stream",
     "text": [
      "After Query 3\n",
      "[(101, 'The Matrix', 'Action', 'English', 9.9), (103, 'KGF', 'Action', 'Hindi', 9.9), (104, '83', 'Historical', 'Hindi', 7.7), (105, 'Tadap', 'Fictional', 'Hindi', 5.5)]\n"
     ]
    }
   ],
   "source": [
    "print(\"After Query 3\")\n",
    "c.execute(\"SELECT * FROM movies WHERE rating > 3\")\n",
    "print(c.fetchall())\n",
    "conn.close()"
   ]
  },
  {
   "cell_type": "code",
   "execution_count": 25,
   "id": "07feca7d",
   "metadata": {},
   "outputs": [],
   "source": [
    "conn.close()"
   ]
  },
  {
   "cell_type": "code",
   "execution_count": null,
   "id": "84e810f2",
   "metadata": {},
   "outputs": [],
   "source": [
    "                                        Question-3"
   ]
  },
  {
   "cell_type": "code",
   "execution_count": 67,
   "id": "365bfaf8",
   "metadata": {},
   "outputs": [],
   "source": [
    "import sqlite3 as sql\n",
    "conn = sql.connect('course.db')\n",
    "c = conn.cursor()\n",
    "c.execute(\"\"\"CREATE TABLE Product8(id int primary key, prod_name text, supplier_id int, unit_price int,package text\n",
    ", order_id int\n",
    ")\n",
    "\"\"\")\n",
    "c.execute(\"\"\"CREATE TABLE OrderItem8(id int primary key, order_id int, product_id int, unit_price int, quantity int\n",
    ",\n",
    "foreign key(order_id) references Product8(id)\n",
    ")\n",
    "\"\"\")\n",
    "conn.commit() \n",
    "many_product = [(1, 'Laptop', 101, 10000, 'Cardboard',201),\n",
    "(2, 'Milk', 102, 50, 'Plastic', 202),\n",
    "(3, 'Notebook', 103, 80, 'Polyethene',203),\n",
    "(4, 'Shirt', 104, 2000, 'Paper', 204)\n",
    "]\n",
    "many_order = [(1, 202, 2, 50, 20),\n",
    "(2, 204, 4, 2000,30),\n",
    "(3, 201, 1, 10000, 10),\n",
    "(4, 203, 3, 80, 15)\n",
    "]\n",
    "c.executemany(\"INSERT INTO Product8 VALUES(?,?,?,?,?,?)\",many_product)\n",
    "c.executemany(\"INSERT INTO OrderItem8 VALUES(?,?,?,?,?)\",many_order)\n",
    "conn.commit()"
   ]
  },
  {
   "cell_type": "code",
   "execution_count": 69,
   "id": "b6b2de11",
   "metadata": {},
   "outputs": [
    {
     "name": "stdout",
     "output_type": "stream",
     "text": [
      "1 : 20\n",
      "2 : 30\n",
      "3 : 10\n",
      "4 : 15\n"
     ]
    }
   ],
   "source": [
    "c.execute(\"SELECT id,quantity FROM OrderItem8 \")\n",
    "a=c.fetchall()\n",
    "for r,q in a:\n",
    "    print(r,end= \" : \")\n",
    "    print(q)"
   ]
  },
  {
   "cell_type": "code",
   "execution_count": 71,
   "id": "de2c93f8",
   "metadata": {},
   "outputs": [
    {
     "name": "stdout",
     "output_type": "stream",
     "text": [
      "(50, 102)\n",
      "(80, 103)\n",
      "(2000, 104)\n",
      "(10000, 101)\n"
     ]
    }
   ],
   "source": [
    "items = c.execute(\"SELECT unit_price,supplier_id FROM Product8 ORDER BY unit_price\")\n",
    "for item in items: \n",
    "    print(item)"
   ]
  },
  {
   "cell_type": "code",
   "execution_count": 72,
   "id": "f0bed39e",
   "metadata": {},
   "outputs": [
    {
     "name": "stdout",
     "output_type": "stream",
     "text": [
      "('Laptop', 201, 101)\n",
      "('Milk', 202, 102)\n",
      "('Notebook', 203, 103)\n",
      "('Shirt', 204, 104)\n"
     ]
    }
   ],
   "source": [
    "items = c.execute(\"SELECT prod_name,order_id,supplier_id FROM Product8\")\n",
    "for item in items: \n",
    "    print(item)"
   ]
  },
  {
   "cell_type": "code",
   "execution_count": null,
   "id": "935d0a3c",
   "metadata": {},
   "outputs": [],
   "source": [
    "                                        Question-4"
   ]
  },
  {
   "cell_type": "code",
   "execution_count": 63,
   "id": "37f61a62",
   "metadata": {},
   "outputs": [],
   "source": [
    "import sqlite3 as sql\n",
    "conn = sql.connect('customer.db')\n",
    "c = conn.cursor()\n",
    "c.execute(\"\"\"CREATE TABLE Job9(job_id int(11) PRIMARY KEY, job_title varchar(100), min_salary int(225),\n",
    "max_salary int(225)\n",
    ")\n",
    "\"\"\") \n",
    "conn.commit()\n",
    "many_jobs = [(1,'CEO',250000,7500000),\n",
    "(2,'Artist',10000,50000),\n",
    "(3,'Manager',35000,100000),\n",
    "(4,'Software Engineer',50000,1000000),\n",
    "(5,'Architect',10000,100000)\n",
    "]\n",
    "c.executemany(\"INSERT INTO Job9 VALUES(?,?,?,?)\", many_jobs)\n",
    "conn.commit()"
   ]
  },
  {
   "cell_type": "code",
   "execution_count": 64,
   "id": "600e342d",
   "metadata": {},
   "outputs": [
    {
     "name": "stdout",
     "output_type": "stream",
     "text": [
      "(1, 'CEO', 250000, 7500000)\n",
      "(2, 'Artist', 10000, 50000)\n",
      "(3, 'Manager', 35000, 100000)\n",
      "(4, 'Software Engineer', 50000, 1000000)\n",
      "(5, 'Architect', 10000, 100000)\n"
     ]
    }
   ],
   "source": [
    "c.execute(\"SELECT * FROM Job9\") \n",
    "items = c.fetchall()\n",
    "for item in items:\n",
    "    print(item)"
   ]
  },
  {
   "cell_type": "code",
   "execution_count": null,
   "id": "94d8413a",
   "metadata": {},
   "outputs": [],
   "source": [
    "                                          Question-5"
   ]
  },
  {
   "cell_type": "code",
   "execution_count": 52,
   "id": "591a1b33",
   "metadata": {},
   "outputs": [],
   "source": [
    "import sqlite3 as sql\n",
    "conn = sql.connect('customer.db')\n",
    "c = conn.cursor()\n",
    "c.execute(\"\"\"CREATE TABLE   job_history(employee_ID int(11) PRIMARY KEY, start_date DATE, end_date DATE,\n",
    "job_id int(225), dept_id int(225), FOREIGN KEY (job_id) REFERENCES jobs(job_id)\n",
    ")\n",
    "\"\"\")\n",
    "conn.commit()\n",
    "many_history = [(20552,'2010-04-30','2020-07-21',5067,7621),\n",
    "(20553,'2013-08-05','2015-03-17',5101,7623),\n",
    "(20550,'2012-10-27','2022-12-17',5001,7628), \n",
    "(20554,'2009-07-25','2022-01-01',5008,7620),\n",
    "(20551,'2014-03-23','2019-06-21',5089,7623)\n",
    "]\n",
    "c.executemany(\"INSERT INTO job_history VALUES(?,?,?,?,?)\", many_history)\n",
    "conn.commit()"
   ]
  },
  {
   "cell_type": "code",
   "execution_count": 53,
   "id": "a1f38fd4",
   "metadata": {},
   "outputs": [
    {
     "name": "stdout",
     "output_type": "stream",
     "text": [
      "(20552, '2010-04-30', '2020-07-21', 5067, 7621)\n",
      "(20553, '2013-08-05', '2015-03-17', 5101, 7623)\n",
      "(20550, '2012-10-27', '2022-12-17', 5001, 7628)\n",
      "(20554, '2009-07-25', '2022-01-01', 5008, 7620)\n",
      "(20551, '2014-03-23', '2019-06-21', 5089, 7623)\n"
     ]
    }
   ],
   "source": [
    "c.execute(\"SELECT * FROM job_history\")\n",
    "items = c.fetchall()\n",
    "for item in items:\n",
    "    print(item)"
   ]
  },
  {
   "cell_type": "code",
   "execution_count": null,
   "id": "f85d6706",
   "metadata": {},
   "outputs": [],
   "source": [
    "                                           Advanced section"
   ]
  },
  {
   "cell_type": "code",
   "execution_count": 75,
   "id": "94d22344",
   "metadata": {},
   "outputs": [],
   "source": [
    "import sqlite3 as sql\n",
    "conn = sql.connect('customer.db')\n",
    "c = conn.cursor()\n",
    "c.execute(\"\"\"CREATE TABLE Product1(prod_id int(11) PRIMARY KEY,prod_name text,price int,manufacturer text\n",
    ",quantity int)\n",
    "\"\"\")\n",
    "conn.commit()\n",
    "many_products=[(12512,'modelS',120000,'tesla',5),\n",
    "(12612,'crewdragon',100,'ABC',8),\n",
    "(12712,'starliner',225,'boeing',10),\n",
    "(12812,'iphone12',999,'apple',15),\n",
    "(12912,'surfacepro',1200,'ABC',100)\n",
    "]\n",
    "c.executemany(\"INSERT INTO Product1 VALUES(?,?,?,?,?)\",many_products)\n",
    "conn.commit()"
   ]
  },
  {
   "cell_type": "code",
   "execution_count": 76,
   "id": "17f941d9",
   "metadata": {},
   "outputs": [
    {
     "name": "stdout",
     "output_type": "stream",
     "text": [
      "(12512, 'modelS', 120000, 'tesla', 5)\n",
      "(12912, 'surfacepro', 1200, 'ABC', 100)\n",
      "(12812, 'iphone12', 999, 'apple', 15)\n"
     ]
    }
   ],
   "source": [
    "c.execute(\"SELECT * FROM Product1 ORDER BY price DESC LIMIT 3\")\n",
    "items = c.fetchall()\n",
    "for item in items:\n",
    "    print(item)"
   ]
  },
  {
   "cell_type": "code",
   "execution_count": 77,
   "id": "d7578626",
   "metadata": {},
   "outputs": [
    {
     "name": "stdout",
     "output_type": "stream",
     "text": [
      "(12612, 'crewdragon', 100, 'ABC', 8)\n"
     ]
    }
   ],
   "source": [
    "c.execute(\"SELECT * FROM Product1 where manufacturer='ABC' and price<200\")\n",
    "items = c.fetchall()\n",
    "for item in items:\n",
    "    print(item)"
   ]
  },
  {
   "cell_type": "code",
   "execution_count": 78,
   "id": "dc1de7a6",
   "metadata": {},
   "outputs": [
    {
     "name": "stdout",
     "output_type": "stream",
     "text": [
      "('crewdragon',)\n"
     ]
    }
   ],
   "source": [
    "c.execute(\"SELECT prod_name FROM Product1 where price between 20 and 200\")\n",
    "items = c.fetchall()\n",
    "for item in items:\n",
    "    print(item)"
   ]
  },
  {
   "cell_type": "code",
   "execution_count": 79,
   "id": "91230d81",
   "metadata": {},
   "outputs": [
    {
     "name": "stdout",
     "output_type": "stream",
     "text": [
      "[(5,)]\n"
     ]
    }
   ],
   "source": [
    "c.execute(\"SELECT count(*) AS NumProduct  FROM Product1\")\n",
    "print(c.fetchall())"
   ]
  },
  {
   "cell_type": "code",
   "execution_count": 85,
   "id": "a76024f4",
   "metadata": {},
   "outputs": [
    {
     "name": "stdout",
     "output_type": "stream",
     "text": [
      "(12612, 'crewdragon', 100, 'ABC', 8)\n",
      "(12912, 'surfacepro', 1200, 'ABC', 100)\n"
     ]
    }
   ],
   "source": [
    "c.execute(\"SELECT * from Product1 where manufacturer BETWEEN 'A' AND 'C'\")\n",
    "items = c.fetchall()\n",
    "for item in items:\n",
    "    print(item)"
   ]
  },
  {
   "cell_type": "code",
   "execution_count": 86,
   "id": "e9ebcc5a",
   "metadata": {},
   "outputs": [
    {
     "name": "stdout",
     "output_type": "stream",
     "text": [
      "[(12912, 'surfacepro', 1200, 'ABC', 100)]\n"
     ]
    }
   ],
   "source": [
    "c.execute(\"select * from Product1 group by price order by price desc limit 1,1\")\n",
    "print(c.fetchall())"
   ]
  },
  {
   "cell_type": "code",
   "execution_count": 87,
   "id": "49dd932d",
   "metadata": {},
   "outputs": [
    {
     "name": "stdout",
     "output_type": "stream",
     "text": [
      "(12512, 'modelS', 120000, 'tesla', 5)\n"
     ]
    }
   ],
   "source": [
    "c.execute(\"select * from Product1 where price > (Select AVG(price) From Product1)\")\n",
    "items = c.fetchall()\n",
    "for item in items:\n",
    "    print(item)"
   ]
  },
  {
   "cell_type": "code",
   "execution_count": 88,
   "id": "55552566",
   "metadata": {},
   "outputs": [
    {
     "name": "stdout",
     "output_type": "stream",
     "text": [
      "(12512, 'modelS', 120000, 'tesla', 5)\n",
      "(12912, 'surfacepro', 1200, 'ABC', 100)\n",
      "(12812, 'iphone12', 999, 'apple', 15)\n",
      "(12712, 'starliner', 225, 'boeing', 10)\n",
      "(12612, 'crewdragon', 100, 'ABC', 8)\n"
     ]
    }
   ],
   "source": [
    "c.execute(\"SELECT * FROM Product1 ORDER BY price DESC LIMIT 5\")\n",
    "items = c.fetchall()\n",
    "for item in items:\n",
    "    print(item)"
   ]
  },
  {
   "cell_type": "code",
   "execution_count": null,
   "id": "39525e4d",
   "metadata": {},
   "outputs": [],
   "source": []
  }
 ],
 "metadata": {
  "kernelspec": {
   "display_name": "Python 3 (ipykernel)",
   "language": "python",
   "name": "python3"
  },
  "language_info": {
   "codemirror_mode": {
    "name": "ipython",
    "version": 3
   },
   "file_extension": ".py",
   "mimetype": "text/x-python",
   "name": "python",
   "nbconvert_exporter": "python",
   "pygments_lexer": "ipython3",
   "version": "3.10.2"
  }
 },
 "nbformat": 4,
 "nbformat_minor": 5
}
