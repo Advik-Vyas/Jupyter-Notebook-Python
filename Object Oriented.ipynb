{
 "cells": [
  {
   "cell_type": "code",
   "execution_count": 11,
   "id": "8190e48b",
   "metadata": {},
   "outputs": [
    {
     "name": "stdout",
     "output_type": "stream",
     "text": [
      "Student Details: \n",
      "School -> SRM\n",
      "dept1 -> Software Engg\n",
      "dept2 -> Chemistry\n",
      "dept3 -> Mathematics\n",
      "dept4 -> Artificial Intelligence\n",
      "\n",
      "After adding the student_ID attribute: \n",
      "School -> SRM\n",
      "dept1 -> Software Engg\n",
      "dept2 -> Chemistry\n",
      "dept3 -> Mathematics\n",
      "dept4 -> Artificial Intelligence\n",
      "student_ID -> 00001\n",
      "\n",
      "Student details after removing dept1 and dept2: \n",
      "School -> SRM\n",
      "dept3 -> Mathematics\n",
      "dept4 -> Artificial Intelligence\n",
      "student_ID -> 00001\n"
     ]
    }
   ],
   "source": [
    "class SRMIST:\n",
    "    School = 'SRM'\n",
    "    dept1 = \"Software Engg\"\n",
    "    dept2 = \"Chemistry\"\n",
    "    dept3 = \"Mathematics\"\n",
    "    dept4 = \"Artificial Intelligence\"\n",
    "    \n",
    "print(\"Student Details: \")\n",
    "for attribute,values in SRMIST.__dict__.items():\n",
    "    if not attribute.startswith('_'):\n",
    "        print (f'{attribute} -> {values}')\n",
    "        \n",
    "print(\"\\nAfter adding the student_ID attribute: \")\n",
    "SRMIST.student_ID = '00001'\n",
    "for attribute,values in SRMIST.__dict__.items():\n",
    "    if not attribute.startswith('_'):\n",
    "        print (f'{attribute} -> {values}')\n",
    "        \n",
    "print(\"\\nStudent details after removing dept1 and dept2: \")\n",
    "del SRMIST.dept1\n",
    "del SRMIST.dept2\n",
    "for attribute,values in SRMIST.__dict__.items():\n",
    "    if not attribute.startswith('_'):\n",
    "        print (f'{attribute} -> {values}')"
   ]
  },
  {
   "cell_type": "code",
   "execution_count": 12,
   "id": "884f156c",
   "metadata": {},
   "outputs": [
    {
     "name": "stdout",
     "output_type": "stream",
     "text": [
      "The name is:SCO\n",
      "The name is:abc\n"
     ]
    }
   ],
   "source": [
    "class Dept:\n",
    "    def __init__ (self,S=None):\n",
    "        if S is None:\n",
    "            self.S = 'SCO'\n",
    "        else:\n",
    "            self.S = S\n",
    "    def output(self):\n",
    "        print(f'The name is:{self.S}')\n",
    "        \n",
    "ob = Dept()\n",
    "ob.output()\n",
    "ob = Dept('abc')\n",
    "ob.output()"
   ]
  },
  {
   "cell_type": "code",
   "execution_count": 17,
   "id": "83d3acd3",
   "metadata": {},
   "outputs": [
    {
     "name": "stdout",
     "output_type": "stream",
     "text": [
      "The area of the rectangle r1 is 0\n",
      "The area of the rectangle r2 is 1\n",
      "The area of the rectangle r3 is 2\n"
     ]
    }
   ],
   "source": [
    "class Rectangle:\n",
    "    def __init__ (self, length = None, breadth = None):\n",
    "        if length is None:\n",
    "            self._length = 0\n",
    "            self._breadth = 0\n",
    "        else:\n",
    "            self._length = length\n",
    "        if breadth is None:\n",
    "            self._breadth = self._length\n",
    "        else:\n",
    "            self._breadth = breadth\n",
    "            \n",
    "    def area(self):\n",
    "        return self._length * self._breadth\n",
    "        \n",
    "r1 = Rectangle()\n",
    "r2 = Rectangle(1)\n",
    "r3 = Rectangle(1,2)\n",
    "\n",
    "print(f'The area of the rectangle r1 is {r1.area()}')\n",
    "print(f'The area of the rectangle r2 is {r2.area()}')\n",
    "print(f'The area of the rectangle r3 is {r3.area()}')"
   ]
  },
  {
   "cell_type": "code",
   "execution_count": 26,
   "id": "4cd75f9e",
   "metadata": {},
   "outputs": [
    {
     "name": "stdout",
     "output_type": "stream",
     "text": [
      "Money deposited=15000\n",
      "Money deposited=30000\n",
      "Money deposited=40000\n"
     ]
    }
   ],
   "source": [
    "class Banks_SRMIST:\n",
    "    def getbalance():\n",
    "        return 0\n",
    "class CUB:\n",
    "    def getbalance():\n",
    "        return 15000\n",
    "class HDFC:\n",
    "    def getbalance():\n",
    "        return 30000\n",
    "class Indian_Bank:\n",
    "    def getbalance():\n",
    "        return 40000\n",
    "    \n",
    "ob1 = CUB\n",
    "ob2 = HDFC\n",
    "ob3 = Indian_Bank\n",
    "print(f\"Money deposited={ob1.getbalance()}\")\n",
    "print(f\"Money deposited={ob2.getbalance()}\")\n",
    "print(f\"Money deposited={ob3.getbalance()}\")"
   ]
  },
  {
   "cell_type": "code",
   "execution_count": 19,
   "id": "f382c4aa",
   "metadata": {},
   "outputs": [
    {
     "name": "stdout",
     "output_type": "stream",
     "text": [
      "The area is (6+0j) sq.units\n",
      "The perimeter is 12 units\n"
     ]
    }
   ],
   "source": [
    "import cmath\n",
    "class Triangle:\n",
    "    def __init__(self,s1,s2,s3):\n",
    "        self.s1 = s1\n",
    "        self.s2 = s2\n",
    "        self.s3 = s3\n",
    "    def output(self):\n",
    "        s = (self.s1 + self.s2 + self.s3)/2\n",
    "        area = cmath.sqrt(s*(s-self.s1)*(s-self.s2)*(s-self.s3))\n",
    "        perimeter = self.s1 + self.s2 + self.s3\n",
    "        print(f\"The area is {area} sq.units\")\n",
    "        print(f\"The perimeter is {perimeter} units\")\n",
    "        \n",
    "ob = Triangle(3,4,5)\n",
    "ob.output()"
   ]
  },
  {
   "cell_type": "code",
   "execution_count": 20,
   "id": "7f643606",
   "metadata": {},
   "outputs": [
    {
     "name": "stdout",
     "output_type": "stream",
     "text": [
      "Student Details: \n",
      "Name : ABC, Age : 18\n",
      "Name : XYZ, Age : 19\n"
     ]
    }
   ],
   "source": [
    "class Student:\n",
    "    def __init__(self,name,age):\n",
    "        self.name = name\n",
    "        self.age = age\n",
    "\n",
    "s1 = Student(\"ABC\",18)\n",
    "s2 = Student(\"XYZ\",19)\n",
    "\n",
    "print(\"Student Details: \")\n",
    "print(f\"Name : {s1.name}, Age : {s1.age}\")\n",
    "print(f\"Name : {s2.name}, Age : {s2.age}\")"
   ]
  },
  {
   "cell_type": "code",
   "execution_count": 21,
   "id": "83b6a991",
   "metadata": {},
   "outputs": [
    {
     "ename": "Exception",
     "evalue": "Secret variable is currently shown",
     "output_type": "error",
     "traceback": [
      "\u001b[1;31m---------------------------------------------------------------------------\u001b[0m",
      "\u001b[1;31mException\u001b[0m                                 Traceback (most recent call last)",
      "Input \u001b[1;32mIn [21]\u001b[0m, in \u001b[0;36m<cell line: 9>\u001b[1;34m()\u001b[0m\n\u001b[0;32m      7\u001b[0m Obj \u001b[38;5;241m=\u001b[39m Hidden()\n\u001b[0;32m      8\u001b[0m test \u001b[38;5;241m=\u001b[39m \u001b[38;5;241m10\u001b[39m\n\u001b[1;32m----> 9\u001b[0m \u001b[43mObj\u001b[49m\u001b[38;5;241;43m.\u001b[39;49m\u001b[43mshow\u001b[49m\u001b[43m(\u001b[49m\u001b[43mtest\u001b[49m\u001b[43m)\u001b[49m\n\u001b[0;32m     10\u001b[0m \u001b[38;5;28mprint\u001b[39m(Obj\u001b[38;5;241m.\u001b[39m_Hidden__Secret)\n",
      "Input \u001b[1;32mIn [21]\u001b[0m, in \u001b[0;36mHidden.show\u001b[1;34m(self, test)\u001b[0m\n\u001b[0;32m      3\u001b[0m \u001b[38;5;28;01mdef\u001b[39;00m \u001b[38;5;21mshow\u001b[39m(\u001b[38;5;28mself\u001b[39m,test):\n\u001b[0;32m      4\u001b[0m     \u001b[38;5;28;01mif\u001b[39;00m \u001b[38;5;28mself\u001b[39m\u001b[38;5;241m.\u001b[39m__Secret \u001b[38;5;241m==\u001b[39m test:\n\u001b[1;32m----> 5\u001b[0m         \u001b[38;5;28;01mraise\u001b[39;00m \u001b[38;5;167;01mException\u001b[39;00m(\u001b[38;5;124m\"\u001b[39m\u001b[38;5;124mSecret variable is currently shown\u001b[39m\u001b[38;5;124m\"\u001b[39m)\n",
      "\u001b[1;31mException\u001b[0m: Secret variable is currently shown"
     ]
    }
   ],
   "source": [
    "class Hidden:\n",
    "    __Secret = 10\n",
    "    def show(self,test):\n",
    "        if self.__Secret == test:\n",
    "            raise Exception(\"Secret variable is currently shown\")\n",
    "\n",
    "Obj = Hidden()\n",
    "test = 10\n",
    "Obj.show(test)\n",
    "print(Obj._Hidden__Secret)"
   ]
  },
  {
   "cell_type": "code",
   "execution_count": 24,
   "id": "e8a59ed0",
   "metadata": {},
   "outputs": [
    {
     "name": "stdout",
     "output_type": "stream",
     "text": [
      "5 is shown in class\n",
      "10\n",
      "25\n",
      "25 outside of class\n"
     ]
    }
   ],
   "source": [
    "class Hidden:\n",
    "    __Num = 5\n",
    "    def add(self,n):\n",
    "        self.__Num += n\n",
    "        print(f\"{self.__Num}\")\n",
    "    def show(self):\n",
    "        print(f\"{self.__Num} is shown in class\")\n",
    "        \n",
    "obj = Hidden()\n",
    "n = 5\n",
    "obj.show()\n",
    "obj.add(n)\n",
    "n += obj._Hidden__Num\n",
    "obj.add(n)\n",
    "print(obj._Hidden__Num, \"outside of class\")"
   ]
  },
  {
   "cell_type": "code",
   "execution_count": null,
   "id": "0e5663ac",
   "metadata": {},
   "outputs": [],
   "source": []
  }
 ],
 "metadata": {
  "kernelspec": {
   "display_name": "Python 3 (ipykernel)",
   "language": "python",
   "name": "python3"
  },
  "language_info": {
   "codemirror_mode": {
    "name": "ipython",
    "version": 3
   },
   "file_extension": ".py",
   "mimetype": "text/x-python",
   "name": "python",
   "nbconvert_exporter": "python",
   "pygments_lexer": "ipython3",
   "version": "3.10.2"
  }
 },
 "nbformat": 4,
 "nbformat_minor": 5
}
