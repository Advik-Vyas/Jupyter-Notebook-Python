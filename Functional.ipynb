{
 "cells": [
  {
   "cell_type": "code",
   "execution_count": 31,
   "id": "00329f3c",
   "metadata": {},
   "outputs": [
    {
     "name": "stdout",
     "output_type": "stream",
     "text": [
      "Enter length in metres 6\n",
      "19.6823394 feet\n"
     ]
    }
   ],
   "source": [
    "metres = int(input(\"Enter length in metres \"))\n",
    "feet = lambda metres: metres * 3.2803899\n",
    "print(str(feet(metres)) + \" feet\")"
   ]
  },
  {
   "cell_type": "code",
   "execution_count": 15,
   "id": "0aa23cf6",
   "metadata": {},
   "outputs": [
    {
     "name": "stdout",
     "output_type": "stream",
     "text": [
      "Enter a number 2\n",
      "16\n"
     ]
    }
   ],
   "source": [
    "def square(n):\n",
    "    return n**2\n",
    "\n",
    "def twice(n):\n",
    "    return square(square(n))\n",
    "    \n",
    "N = int(input(\"Enter a number \"))\n",
    "quad =  twice(N)\n",
    "print(quad)"
   ]
  },
  {
   "cell_type": "code",
   "execution_count": 30,
   "id": "157ac8d2",
   "metadata": {},
   "outputs": [
    {
     "name": "stdout",
     "output_type": "stream",
     "text": [
      "Enter the limit: 100\n",
      "The Lottery number is 30\n"
     ]
    }
   ],
   "source": [
    "import random\n",
    "def Lottery(n):\n",
    "    listt = []\n",
    "    for i in range (0,n):\n",
    "        app = random.randint(1,n)\n",
    "        listt.append(app)\n",
    "    def randIndex(listt):\n",
    "        index = random.randint(1,len(listt))\n",
    "        return listt[index]\n",
    "    lottery = randIndex(listt)\n",
    "    return lottery\n",
    "\n",
    "n = int(input(\"Enter the limit: \"))\n",
    "print(\"The Lottery number is \" + str(Lottery(n)))"
   ]
  },
  {
   "cell_type": "code",
   "execution_count": 47,
   "id": "c5c7a327",
   "metadata": {},
   "outputs": [
    {
     "name": "stdout",
     "output_type": "stream",
     "text": [
      "Enter number of list elements: 5\n",
      "5\n",
      "12\n",
      "-4\n",
      "0\n",
      "1\n",
      "The sum of positive elements is: 18\n"
     ]
    }
   ],
   "source": [
    "def testfornegative(listt):\n",
    "    booll = 0\n",
    "    for i in range(len(listt)):\n",
    "        if listt[i] > 0:\n",
    "            booll = booll+1\n",
    "    if booll == 1:\n",
    "        return 1\n",
    "    else:\n",
    "        return 0\n",
    "\n",
    "def sumpos(listt):\n",
    "    summ = 0\n",
    "    if len(listt) == 0 or bool(testfornegative(listt)):\n",
    "        return 0\n",
    "    for i in range(len(listt)):\n",
    "        if listt[i] > 0:\n",
    "            summ = summ + listt[i]\n",
    "    return summ\n",
    "\n",
    "Listt = []\n",
    "n = int(input(\"Enter number of list elements: \"))\n",
    "for i in range(0,n):\n",
    "    ele = int(input())\n",
    "    Listt.append(ele)\n",
    "print(\"The sum of positive elements is: \" + str(sumpos(Listt)))"
   ]
  }
 ],
 "metadata": {
  "kernelspec": {
   "display_name": "Python 3 (ipykernel)",
   "language": "python",
   "name": "python3"
  },
  "language_info": {
   "codemirror_mode": {
    "name": "ipython",
    "version": 3
   },
   "file_extension": ".py",
   "mimetype": "text/x-python",
   "name": "python",
   "nbconvert_exporter": "python",
   "pygments_lexer": "ipython3",
   "version": "3.10.2"
  }
 },
 "nbformat": 4,
 "nbformat_minor": 5
}
