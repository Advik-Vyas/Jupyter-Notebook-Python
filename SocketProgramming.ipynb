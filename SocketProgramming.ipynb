{
 "cells": [
  {
   "cell_type": "code",
   "execution_count": null,
   "id": "e98ef5bd",
   "metadata": {},
   "outputs": [],
   "source": [
    "import socket\n",
    "\n",
    "ip = \"127.0.0.1\"\n",
    "port = 1234\n",
    "server = socket.socket(socket.AF_INET,socket.SOCK_STREAM)\n",
    "server.bind((ip,port))\n",
    "server.listen(5)\n",
    "    \n",
    "while True:\n",
    "    client,address = server.accept()\n",
    "    print(\"Got connection from\",address)\n",
    "    string = input(\"Enter String: \")\n",
    "    client.send(bytes(string, \"utf-8\"))\n",
    "    client.close()"
   ]
  },
  {
   "cell_type": "code",
   "execution_count": null,
   "id": "dae5ef20",
   "metadata": {},
   "outputs": [],
   "source": [
    "import socket\n",
    "\n",
    "ip = \"127.0.0.1\"\n",
    "port = 1234\n",
    "server = socket.socket(socket.AF_INET,socket.SOCK_STREAM)\n",
    "server.connect((ip,port))\n",
    "string = server.recv(1024)\n",
    "string = string.decode(\"utf-8\")\n",
    "print(string)\n",
    "server.close()"
   ]
  },
  {
   "cell_type": "code",
   "execution_count": null,
   "id": "834cc4f1",
   "metadata": {},
   "outputs": [],
   "source": []
  }
 ],
 "metadata": {
  "kernelspec": {
   "display_name": "Python 3 (ipykernel)",
   "language": "python",
   "name": "python3"
  },
  "language_info": {
   "codemirror_mode": {
    "name": "ipython",
    "version": 3
   },
   "file_extension": ".py",
   "mimetype": "text/x-python",
   "name": "python",
   "nbconvert_exporter": "python",
   "pygments_lexer": "ipython3",
   "version": "3.10.2"
  }
 },
 "nbformat": 4,
 "nbformat_minor": 5
}
