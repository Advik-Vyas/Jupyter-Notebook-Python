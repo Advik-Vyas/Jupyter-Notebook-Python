{
 "cells": [
  {
   "cell_type": "code",
   "execution_count": 6,
   "id": "8b63d375",
   "metadata": {},
   "outputs": [
    {
     "name": "stdout",
     "output_type": "stream",
     "text": [
      "1.414213562373095145474621858738828450441360473632812500000000000000000000000000000000000000000000000\n"
     ]
    }
   ],
   "source": [
    "import sympy\n",
    "import math\n",
    "print(sympy.Float(math.sqrt(2),100))"
   ]
  },
  {
   "cell_type": "code",
   "execution_count": 2,
   "id": "32079516",
   "metadata": {
    "scrolled": true
   },
   "outputs": [
    {
     "name": "stdout",
     "output_type": "stream",
     "text": [
      "5/6\n"
     ]
    }
   ],
   "source": [
    "from sympy import Rational\n",
    "a = Rational(1,2)\n",
    "b = Rational(1,3) #.limit_denominator(3)\n",
    "print(Rational(a + b))"
   ]
  },
  {
   "cell_type": "code",
   "execution_count": 4,
   "id": "665cd774",
   "metadata": {},
   "outputs": [
    {
     "name": "stdout",
     "output_type": "stream",
     "text": [
      "x**6 + 6*x**5*y + 15*x**4*y**2 + 20*x**3*y**3 + 15*x**2*y**4 + 6*x*y**5 + y**6\n"
     ]
    },
    {
     "data": {
      "text/latex": [
       "$\\displaystyle x^{6} + 6 x^{5} y + 15 x^{4} y^{2} + 20 x^{3} y^{3} + 15 x^{2} y^{4} + 6 x y^{5} + y^{6}$"
      ],
      "text/plain": [
       "x**6 + 6*x**5*y + 15*x**4*y**2 + 20*x**3*y**3 + 15*x**2*y**4 + 6*x*y**5 + y**6"
      ]
     },
     "execution_count": 4,
     "metadata": {},
     "output_type": "execute_result"
    }
   ],
   "source": [
    "from sympy import Symbol,expand\n",
    "x = Symbol('x')\n",
    "y = Symbol('y')\n",
    "exp = (x + y)**6\n",
    "exp = expand(exp)\n",
    "print(exp)"
   ]
  },
  {
   "cell_type": "code",
   "execution_count": 35,
   "id": "f95617ca",
   "metadata": {},
   "outputs": [
    {
     "data": {
      "text/latex": [
       "$\\displaystyle \\tan{\\left(x \\right)}$"
      ],
      "text/plain": [
       "tan(x)"
      ]
     },
     "execution_count": 35,
     "metadata": {},
     "output_type": "execute_result"
    }
   ],
   "source": [
    "from sympy import simplify,sin,cos\n",
    "from sympy.abc import x\n",
    "exp = simplify(sin(x)/cos(x))\n",
    "exp"
   ]
  },
  {
   "cell_type": "code",
   "execution_count": 39,
   "id": "5b52620c",
   "metadata": {},
   "outputs": [
    {
     "data": {
      "text/latex": [
       "$\\displaystyle - \\frac{1}{6}$"
      ],
      "text/plain": [
       "-1/6"
      ]
     },
     "execution_count": 39,
     "metadata": {},
     "output_type": "execute_result"
    }
   ],
   "source": [
    "from sympy import limit,sin\n",
    "from sympy.abc import x\n",
    "exp = (sin(x) - x)/x**3\n",
    "lim = limit(exp,x,0)\n",
    "lim"
   ]
  },
  {
   "cell_type": "code",
   "execution_count": 44,
   "id": "7b1f3304",
   "metadata": {},
   "outputs": [
    {
     "data": {
      "text/latex": [
       "$\\displaystyle - \\sin{\\left(x \\right)}$"
      ],
      "text/plain": [
       "-sin(x)"
      ]
     },
     "execution_count": 44,
     "metadata": {},
     "output_type": "execute_result"
    }
   ],
   "source": [
    "from sympy import diff,sin,cos,log\n",
    "from sympy.abc import x\n",
    "diff(log(x))\n",
    "diff(1/x)\n",
    "diff(sin(x))\n",
    "diff(cos(x))"
   ]
  },
  {
   "cell_type": "code",
   "execution_count": 47,
   "id": "5b0c2f6e",
   "metadata": {},
   "outputs": [
    {
     "data": {
      "text/latex": [
       "$\\displaystyle \\left\\{\\left( -2, \\  4\\right)\\right\\}$"
      ],
      "text/plain": [
       "{(-2, 4)}"
      ]
     },
     "execution_count": 47,
     "metadata": {},
     "output_type": "execute_result"
    }
   ],
   "source": [
    "from sympy import Eq,linsolve\n",
    "from sympy.abc import x,y\n",
    "exp1 = Eq(x + y,2)\n",
    "exp2 = Eq(2*x + y,0)\n",
    "linsolve([exp1,exp2],(x,y))"
   ]
  },
  {
   "cell_type": "code",
   "execution_count": 50,
   "id": "54d7cd81",
   "metadata": {},
   "outputs": [
    {
     "data": {
      "text/latex": [
       "$\\displaystyle \\sin{\\left(x \\right)}$"
      ],
      "text/plain": [
       "sin(x)"
      ]
     },
     "execution_count": 50,
     "metadata": {},
     "output_type": "execute_result"
    }
   ],
   "source": [
    "from sympy import integrate,sin,cos\n",
    "from sympy.abc import x,y\n",
    "integrate(x**2)\n",
    "integrate(sin(x))\n",
    "integrate(cos(x))"
   ]
  },
  {
   "cell_type": "code",
   "execution_count": 7,
   "id": "f54555ed",
   "metadata": {},
   "outputs": [
    {
     "data": {
      "text/latex": [
       "$\\displaystyle 1 + x + \\frac{x^{2}}{2} + \\frac{x^{3}}{6} + \\frac{x^{4}}{24} + \\frac{x^{5}}{120} + O\\left(x^{6}\\right)$"
      ],
      "text/plain": [
       "1 + x + x**2/2 + x**3/6 + x**4/24 + x**5/120 + O(x**6)"
      ]
     },
     "execution_count": 7,
     "metadata": {},
     "output_type": "execute_result"
    }
   ],
   "source": [
    "from sympy import series,cos,exp\n",
    "from sympy.abc import x\n",
    "series_fun = series(exp(x))\n",
    "#series_fun = cos(x).series()\n",
    "series_fun"
   ]
  },
  {
   "cell_type": "code",
   "execution_count": 15,
   "id": "78aa37e4",
   "metadata": {},
   "outputs": [
    {
     "data": {
      "text/latex": [
       "$\\displaystyle \\left[\\begin{matrix}7 & 10\\\\15 & 22\\end{matrix}\\right]$"
      ],
      "text/plain": [
       "Matrix([\n",
       "[ 7, 10],\n",
       "[15, 22]])"
      ]
     },
     "execution_count": 15,
     "metadata": {},
     "output_type": "execute_result"
    }
   ],
   "source": [
    "from sympy import Matrix\n",
    "from sympy.abc import x,y\n",
    "M = Matrix([[1,2],[3,4]])\n",
    "M = M**2\n",
    "M"
   ]
  },
  {
   "cell_type": "code",
   "execution_count": null,
   "id": "fd06b11e",
   "metadata": {},
   "outputs": [],
   "source": []
  }
 ],
 "metadata": {
  "kernelspec": {
   "display_name": "Python 3 (ipykernel)",
   "language": "python",
   "name": "python3"
  },
  "language_info": {
   "codemirror_mode": {
    "name": "ipython",
    "version": 3
   },
   "file_extension": ".py",
   "mimetype": "text/x-python",
   "name": "python",
   "nbconvert_exporter": "python",
   "pygments_lexer": "ipython3",
   "version": "3.10.2"
  }
 },
 "nbformat": 4,
 "nbformat_minor": 5
}
