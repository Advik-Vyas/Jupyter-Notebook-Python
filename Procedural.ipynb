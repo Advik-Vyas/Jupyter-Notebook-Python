{
 "cells": [
  {
   "cell_type": "code",
   "execution_count": 2,
   "id": "02bd1f7f",
   "metadata": {},
   "outputs": [
    {
     "name": "stdout",
     "output_type": "stream",
     "text": [
      "Length of random binary string is :  01000\n"
     ]
    }
   ],
   "source": [
    "import random\n",
    "def rand_key(p):\n",
    "    key1 = \" \"\n",
    "    for i in range(p):\n",
    "        temp = str(random.randint(0,1))\n",
    "        key1 += temp\n",
    "    return key1\n",
    "\n",
    "n = 5\n",
    "str1 = rand_key(n)\n",
    "print(\"Length of random binary string is :\",str1)"
   ]
  },
  {
   "cell_type": "code",
   "execution_count": 6,
   "id": "bc639fb9",
   "metadata": {
    "scrolled": true
   },
   "outputs": [
    {
     "name": "stdout",
     "output_type": "stream",
     "text": [
      "Original string: Hello;World!\n",
      "Output string: Hello World \n"
     ]
    }
   ],
   "source": [
    "test_string = \"Hello;World!\"\n",
    "print(\"Original string: \" + test_string)\n",
    "except_punc = '\"!()-[]{}:;<>,\\?.@#$%^&*_~'\n",
    "for i in test_string:\n",
    "    if i in except_punc:\n",
    "        test_string = test_string.replace(i,\" \")\n",
    "print(\"Output string: \" + test_string)"
   ]
  },
  {
   "cell_type": "code",
   "execution_count": 7,
   "id": "6b46d021",
   "metadata": {},
   "outputs": [
    {
     "name": "stdout",
     "output_type": "stream",
     "text": [
      "[('1', '2', '3'), ('A', 'B')]\n"
     ]
    }
   ],
   "source": [
    "List = [(),(),('1','2','3'),('A','B')]\n",
    "List = [t for t in List if t]\n",
    "print(List)"
   ]
  },
  {
   "cell_type": "code",
   "execution_count": 8,
   "id": "1f3d3d29",
   "metadata": {},
   "outputs": [
    {
     "name": "stdout",
     "output_type": "stream",
     "text": [
      "Number of unique items:  5\n"
     ]
    }
   ],
   "source": [
    "input_list = [1,2,3,4,5,1,2,1,5]\n",
    "arr = []\n",
    "flag = 0\n",
    "for i in input_list:\n",
    "    if i not in arr:\n",
    "        flag += 1\n",
    "        arr.append(i)\n",
    "print(\"Number of unique items: \",flag)"
   ]
  },
  {
   "cell_type": "code",
   "execution_count": 10,
   "id": "2939be64",
   "metadata": {},
   "outputs": [
    {
     "name": "stdout",
     "output_type": "stream",
     "text": [
      "2 4 5\n",
      "2 5 4\n",
      "4 2 5\n",
      "4 5 2\n",
      "5 2 4\n",
      "5 4 2\n"
     ]
    }
   ],
   "source": [
    "def comb(L):\n",
    "    for i in range(3):\n",
    "        for j in range (3):\n",
    "            for k in range (3):\n",
    "                if (i!=j and j!=k and k!=i):\n",
    "                    print(L[i],L[j],L[k])\n",
    "comb([2,4,5])"
   ]
  },
  {
   "cell_type": "code",
   "execution_count": 11,
   "id": "c82fc5c5",
   "metadata": {},
   "outputs": [
    {
     "name": "stdout",
     "output_type": "stream",
     "text": [
      "Enter a number: 4\n",
      "Factorial =  24\n"
     ]
    }
   ],
   "source": [
    "def factorial(n):\n",
    "    if(n==0 or n==1):\n",
    "        return 1\n",
    "    else:\n",
    "        return(n*factorial(n-1))\n",
    "\n",
    "facnum = int(input(\"Enter a number: \"))\n",
    "print(\"Factorial = \",factorial(facnum))   "
   ]
  },
  {
   "cell_type": "code",
   "execution_count": 13,
   "id": "09379953",
   "metadata": {},
   "outputs": [
    {
     "name": "stdout",
     "output_type": "stream",
     "text": [
      "Enter a number: 4\n",
      "0 1 1 2 3 "
     ]
    }
   ],
   "source": [
    "def Fibb(n):\n",
    "    if n<0:\n",
    "        print(\"Incorrect input\")\n",
    "    elif n==0:\n",
    "        return 0\n",
    "    elif n==1:\n",
    "        return 1\n",
    "    else:\n",
    "        return Fibb(n-1) + Fibb(n-2)\n",
    "    \n",
    "n = int(input(\"Enter a number: \"))\n",
    "for i in range(n+1):\n",
    "    print(Fibb(i),end = \" \")"
   ]
  },
  {
   "cell_type": "code",
   "execution_count": 14,
   "id": "44623d98",
   "metadata": {},
   "outputs": [
    {
     "name": "stdout",
     "output_type": "stream",
     "text": [
      "10 is not in range\n",
      "25 is not in range\n"
     ]
    }
   ],
   "source": [
    "def rangecheck(n):\n",
    "    if n in range(1,10):\n",
    "        print(f'{n} is in range')\n",
    "    else:\n",
    "        print(f'{n} is not in range')\n",
    "\n",
    "rangecheck(10)\n",
    "rangecheck(25)"
   ]
  },
  {
   "cell_type": "code",
   "execution_count": null,
   "id": "2bf8cad2",
   "metadata": {},
   "outputs": [],
   "source": []
  }
 ],
 "metadata": {
  "kernelspec": {
   "display_name": "Python 3 (ipykernel)",
   "language": "python",
   "name": "python3"
  },
  "language_info": {
   "codemirror_mode": {
    "name": "ipython",
    "version": 3
   },
   "file_extension": ".py",
   "mimetype": "text/x-python",
   "name": "python",
   "nbconvert_exporter": "python",
   "pygments_lexer": "ipython3",
   "version": "3.10.2"
  }
 },
 "nbformat": 4,
 "nbformat_minor": 5
}
