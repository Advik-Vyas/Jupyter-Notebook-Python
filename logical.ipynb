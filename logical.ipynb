{
 "cells": [
  {
   "cell_type": "code",
   "execution_count": null,
   "id": "0adc5c78",
   "metadata": {},
   "outputs": [],
   "source": [
    "from pyDatalog import pyDatalog\n",
    "pyDatalog.create_terms('a,b,c,d,e,f,brother,cousin,grandson,descendent,X,Y')\n",
    "+brother('b','c')\n",
    "+brother('d','e')\n",
    "+cousin('d','f')\n",
    "+cousin('e','f')\n",
    "+grandson('d','a')\n",
    "+grandson('e','a')\n",
    "+grandson('f','a')\n",
    "+descendent('b','a')\n",
    "+descendent('c','a')\n",
    "+descendent('d','b')\n",
    "+descendent('f','c')\n",
    "print(pyDatalog.ask('brother(X,Y)'))\n",
    "print(pyDatalog.ask('cousin(X,Y)'))\n",
    "print(pyDatalog.ask('grandson(X,Y)'))\n",
    "print(pyDatalog.ask('descendent(X,Y)'))"
   ]
  },
  {
   "cell_type": "code",
   "execution_count": null,
   "id": "b6c6455e",
   "metadata": {},
   "outputs": [],
   "source": [
    "from pyDatalog import pyDatalog\n",
    "pyDatalog.create_terms('X,Y,Z,bear,elephant,cat,small,big,brown,black,gray,dark')\n",
    "+big('elephant')\n",
    "90\n",
    "+big('bear')\n",
    "+small('cat')\n",
    "+black('cat')\n",
    "+brown('bear')\n",
    "+gray('elephant')\n",
    "dark(X)<=black(X) or brown(X)\n",
    "print(big(X),dark(X))"
   ]
  },
  {
   "cell_type": "code",
   "execution_count": null,
   "id": "04489c63",
   "metadata": {},
   "outputs": [],
   "source": []
  }
 ],
 "metadata": {
  "kernelspec": {
   "display_name": "Python 3 (ipykernel)",
   "language": "python",
   "name": "python3"
  },
  "language_info": {
   "codemirror_mode": {
    "name": "ipython",
    "version": 3
   },
   "file_extension": ".py",
   "mimetype": "text/x-python",
   "name": "python",
   "nbconvert_exporter": "python",
   "pygments_lexer": "ipython3",
   "version": "3.10.2"
  }
 },
 "nbformat": 4,
 "nbformat_minor": 5
}
