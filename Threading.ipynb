{
 "cells": [
  {
   "cell_type": "code",
   "execution_count": 4,
   "id": "4bf5b3aa",
   "metadata": {},
   "outputs": [
    {
     "name": "stdout",
     "output_type": "stream",
     "text": [
      "\n",
      "\n",
      "\n",
      "\n",
      "Odd numbers are:\n",
      "101 103 105 107 109 111 113 115 117 119 121 123 125 127 129 131 133 135 137 139 141 143 145 147 149 151 153 155 157 159 161 163 165 167 169 171 173 175 177 179 181 183 185 187 189 191 193 195 197 199 \n",
      "Prime numbers are:\n",
      " 211   223   227   229   233   239   241   251   257   263   269   271   277   281   283   293  \n",
      "Armstrong numbers are:\n",
      "153\n",
      "\n",
      "Done!\n"
     ]
    }
   ],
   "source": [
    "\n",
    "import threading\n",
    "\n",
    "def print_odd(n):\n",
    "    print(\"Odd numbers are:\")\n",
    "    for i in range(100,n+1):\n",
    "        if i%2==1:\n",
    "            print(i,end=\" \")\n",
    "            \n",
    "print(\"\\n\")            \n",
    "def print_prime(n):\n",
    "    print(\"\\nPrime numbers are:\")\n",
    "    for Number in range (200, n+1):\n",
    "        count = 0\n",
    "        for i in range(2, (Number//2 + 1)):\n",
    "            if(Number % i == 0):\n",
    "                count = count + 1\n",
    "                break\n",
    "\n",
    "        if (count == 0 and Number != 1):\n",
    "            print(\" %d\" %Number, end = '  ')\n",
    "                \n",
    "print(\"\\n\")\n",
    "                    \n",
    "def print_armstrong(n):\n",
    "    print(\"\\nArmstrong numbers are:\")\n",
    "    for i in range(100,n + 1):  \n",
    "        sum = 0  \n",
    "        temp = i  \n",
    "        while temp > 0:  \n",
    "            digit = temp % 10  \n",
    "            sum += digit ** 3  \n",
    "            temp //= 10  \n",
    "        if i == sum:  \n",
    "            print(i)  \n",
    "\n",
    "                \n",
    "t1 = threading.Thread(target=print_odd, args=(200,))\n",
    "t1.start()\n",
    "t1.join()\n",
    "t2 = threading.Thread(target=print_prime,args=(300,))\n",
    "t2.start()\n",
    "t2.join()\n",
    "t3= threading.Thread(target=print_armstrong, args=(300,))\n",
    "t3.start()\n",
    "t3.join()\n",
    "\n",
    "print(\"\\nDone!\")\n"
   ]
  },
  {
   "cell_type": "code",
   "execution_count": 6,
   "id": "310746d4",
   "metadata": {},
   "outputs": [
    {
     "name": "stdout",
     "output_type": "stream",
     "text": [
      "10\n",
      "T1: 0\n",
      "T2: 1\n",
      "T1: 2\n",
      "T2: 3\n",
      "T1: 4\n",
      "T2: 5\n",
      "T1: 6\n",
      "T2: 7\n",
      "T1: 8\n",
      "T2: 9\n"
     ]
    }
   ],
   "source": [
    "import threading \n",
    "def even(n):\n",
    "        print(\"T1:\",i)\n",
    "def odd(n):\n",
    "        print(\"T2:\",i)\n",
    "        \n",
    "n=int(input())       \n",
    "for i in range(n):\n",
    "    if i%2==0:\n",
    "        t1=threading.Thread(target=even,args=(i,))\n",
    "        t1.start()\n",
    "        t1.join()\n",
    "    else:  \n",
    "        t2=threading.Thread(target=odd,args=(i,))\n",
    "        t2.start()\n",
    "        t2.join()\n"
   ]
  },
  {
   "cell_type": "code",
   "execution_count": null,
   "id": "a8cbe4af",
   "metadata": {},
   "outputs": [],
   "source": []
  }
 ],
 "metadata": {
  "kernelspec": {
   "display_name": "Python 3 (ipykernel)",
   "language": "python",
   "name": "python3"
  },
  "language_info": {
   "codemirror_mode": {
    "name": "ipython",
    "version": 3
   },
   "file_extension": ".py",
   "mimetype": "text/x-python",
   "name": "python",
   "nbconvert_exporter": "python",
   "pygments_lexer": "ipython3",
   "version": "3.10.2"
  }
 },
 "nbformat": 4,
 "nbformat_minor": 5
}
